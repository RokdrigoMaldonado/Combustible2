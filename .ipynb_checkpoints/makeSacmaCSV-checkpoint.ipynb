{
 "cells": [
  {
   "cell_type": "code",
   "execution_count": 2,
   "id": "a97e0b76",
   "metadata": {},
   "outputs": [],
   "source": [
    "import pandas as pd\n",
    "import os\n",
    "import fnmatch\n",
    "import re\n",
    "import multiprocessing as mp\n",
    "import xlrd\n",
    "import pickle\n",
    "import time\n",
    "from readExcelFiles import *\n",
    "from openpyxl import load_workbook\n",
    "import dateutil.parser as dparser\n",
    "import dateutil\n",
    "import locale\n",
    "import datetime\n",
    "\n"
   ]
  },
  {
   "cell_type": "code",
   "execution_count": 125,
   "id": "f2b642dc",
   "metadata": {
    "tags": []
   },
   "outputs": [
    {
     "name": "stdout",
     "output_type": "stream",
     "text": [
      "Mileage-20211001-1200.xlsx\n",
      "Las lecturas del sensor \"CAN: Kilometraje\"\n",
      "RM. TRACTO 14 P  70AD2V\n",
      "Kilometraje\n",
      "2021-09-01\n"
     ]
    },
    {
     "name": "stderr",
     "output_type": "stream",
     "text": [
      "/home/rokdrigo/anaconda3/lib/python3.8/site-packages/openpyxl/styles/stylesheet.py:221: UserWarning: Workbook contains no default style, apply openpyxl's default\n",
      "  warn(\"Workbook contains no default style, apply openpyxl's default\")\n"
     ]
    },
    {
     "name": "stdout",
     "output_type": "stream",
     "text": [
      "Las lecturas del sensor \"CAN: Kilometraje\"\n",
      "RM. TRACTO 07 P  103ED7\n",
      "Kilometraje\n",
      "2021-09-01\n"
     ]
    },
    {
     "name": "stderr",
     "output_type": "stream",
     "text": [
      "/home/rokdrigo/anaconda3/lib/python3.8/site-packages/openpyxl/styles/stylesheet.py:221: UserWarning: Workbook contains no default style, apply openpyxl's default\n",
      "  warn(\"Workbook contains no default style, apply openpyxl's default\")\n"
     ]
    },
    {
     "name": "stdout",
     "output_type": "stream",
     "text": [
      "Las lecturas del sensor \"CAN: Kilometraje\"\n",
      "RM TRACTO 18 P  882ER4\n",
      "Kilometraje\n",
      "2021-09-01\n"
     ]
    },
    {
     "name": "stderr",
     "output_type": "stream",
     "text": [
      "/home/rokdrigo/anaconda3/lib/python3.8/site-packages/openpyxl/styles/stylesheet.py:221: UserWarning: Workbook contains no default style, apply openpyxl's default\n",
      "  warn(\"Workbook contains no default style, apply openpyxl's default\")\n"
     ]
    },
    {
     "name": "stdout",
     "output_type": "stream",
     "text": [
      "Canbus_Total_fuel-20211001-1200.xlsx\n",
      "Las lecturas del sensor \"CAN: Total fuel used \"\n",
      "RM. TRACTO 14 P  70AD2V\n",
      "Total fuel used\n",
      "2021-09-01\n"
     ]
    },
    {
     "name": "stderr",
     "output_type": "stream",
     "text": [
      "/home/rokdrigo/anaconda3/lib/python3.8/site-packages/openpyxl/styles/stylesheet.py:221: UserWarning: Workbook contains no default style, apply openpyxl's default\n",
      "  warn(\"Workbook contains no default style, apply openpyxl's default\")\n"
     ]
    },
    {
     "name": "stdout",
     "output_type": "stream",
     "text": [
      "Las lecturas del sensor \"CAN: Total fuel used\"\n",
      "RM. TRACTO 07 P  103ED7\n",
      "Total fuel used\n",
      "2021-09-01\n"
     ]
    },
    {
     "name": "stderr",
     "output_type": "stream",
     "text": [
      "/home/rokdrigo/anaconda3/lib/python3.8/site-packages/openpyxl/styles/stylesheet.py:221: UserWarning: Workbook contains no default style, apply openpyxl's default\n",
      "  warn(\"Workbook contains no default style, apply openpyxl's default\")\n"
     ]
    },
    {
     "name": "stdout",
     "output_type": "stream",
     "text": [
      "Las lecturas del sensor \"CAN: Total fuel used \"\n",
      "RM TRACTO 18 P  882ER4\n",
      "Total fuel used\n",
      "2021-09-01\n"
     ]
    },
    {
     "name": "stderr",
     "output_type": "stream",
     "text": [
      "/home/rokdrigo/anaconda3/lib/python3.8/site-packages/openpyxl/styles/stylesheet.py:221: UserWarning: Workbook contains no default style, apply openpyxl's default\n",
      "  warn(\"Workbook contains no default style, apply openpyxl's default\")\n"
     ]
    },
    {
     "name": "stdout",
     "output_type": "stream",
     "text": [
      "RPM Septiembre.xlsx\n",
      "Las lecturas del sensor \"CAN: RPM\"\n",
      "RM TRACTO 18 P  882ER4\n",
      "Tanque_2-20211001-1100.xlsx\n",
      "Las lecturas del sensor \"TD TRACTO 14 TANQUE 2 LLS\"\n",
      "RM. TRACTO 14 P  70AD2V\n",
      "Las lecturas del sensor \"TD TRACTO 07 TANQUE 2 LLS\"\n",
      "RM. TRACTO 07 P  103ED7\n",
      "Las lecturas del sensor \"TRACTO 18  TANQUE 2 LLS\"\n",
      "RM TRACTO 18 P  882ER4\n",
      "Tanque1-20211001-2100.xlsx\n"
     ]
    },
    {
     "name": "stderr",
     "output_type": "stream",
     "text": [
      "/home/rokdrigo/anaconda3/lib/python3.8/site-packages/openpyxl/styles/stylesheet.py:221: UserWarning: Workbook contains no default style, apply openpyxl's default\n",
      "  warn(\"Workbook contains no default style, apply openpyxl's default\")\n"
     ]
    },
    {
     "name": "stdout",
     "output_type": "stream",
     "text": [
      "Las lecturas del sensor \"TD TRACTO 14 TANQUE 1 LLS\"\n",
      "RM. TRACTO 14 P  70AD2V\n",
      "TANQUE 1\n",
      "2021-09-01\n",
      "TANQUE 1\n",
      "2021-09-01\n"
     ]
    },
    {
     "name": "stderr",
     "output_type": "stream",
     "text": [
      "/home/rokdrigo/anaconda3/lib/python3.8/site-packages/openpyxl/styles/stylesheet.py:221: UserWarning: Workbook contains no default style, apply openpyxl's default\n",
      "  warn(\"Workbook contains no default style, apply openpyxl's default\")\n"
     ]
    },
    {
     "name": "stdout",
     "output_type": "stream",
     "text": [
      "Las lecturas del sensor \"TD TRACTO 07 TANQUE 1 LLS\"\n",
      "RM. TRACTO 07 P  103ED7\n",
      "TANQUE 1\n",
      "2021-09-01\n"
     ]
    },
    {
     "name": "stderr",
     "output_type": "stream",
     "text": [
      "/home/rokdrigo/anaconda3/lib/python3.8/site-packages/openpyxl/styles/stylesheet.py:221: UserWarning: Workbook contains no default style, apply openpyxl's default\n",
      "  warn(\"Workbook contains no default style, apply openpyxl's default\")\n"
     ]
    },
    {
     "name": "stdout",
     "output_type": "stream",
     "text": [
      "TANQUE 1\n",
      "2021-09-01\n"
     ]
    },
    {
     "name": "stderr",
     "output_type": "stream",
     "text": [
      "/home/rokdrigo/anaconda3/lib/python3.8/site-packages/openpyxl/styles/stylesheet.py:221: UserWarning: Workbook contains no default style, apply openpyxl's default\n",
      "  warn(\"Workbook contains no default style, apply openpyxl's default\")\n"
     ]
    },
    {
     "name": "stdout",
     "output_type": "stream",
     "text": [
      "Las lecturas del sensor \"TRACTO 18 TANQUE 1 LLS\"\n",
      "RM TRACTO 18 P  882ER4\n",
      "TANQUE 1\n",
      "2021-09-01\n"
     ]
    },
    {
     "name": "stderr",
     "output_type": "stream",
     "text": [
      "/home/rokdrigo/anaconda3/lib/python3.8/site-packages/openpyxl/styles/stylesheet.py:221: UserWarning: Workbook contains no default style, apply openpyxl's default\n",
      "  warn(\"Workbook contains no default style, apply openpyxl's default\")\n"
     ]
    },
    {
     "name": "stdout",
     "output_type": "stream",
     "text": [
      "TANQUE 1\n",
      "2021-09-01\n"
     ]
    },
    {
     "name": "stderr",
     "output_type": "stream",
     "text": [
      "/home/rokdrigo/anaconda3/lib/python3.8/site-packages/openpyxl/styles/stylesheet.py:221: UserWarning: Workbook contains no default style, apply openpyxl's default\n",
      "  warn(\"Workbook contains no default style, apply openpyxl's default\")\n"
     ]
    },
    {
     "name": "stdout",
     "output_type": "stream",
     "text": [
      "Eco14\n",
      "Eco07\n",
      "Eco18\n",
      "Eco06\n",
      "Sin sensores que concatenar\n",
      "Sin sensores que concatenar\n",
      "Sin sensores que concatenar\n",
      "Sin sensores que concatenar\n"
     ]
    }
   ],
   "source": [
    "def get_sheetnames_xlsx(filepath):\n",
    "    wb = load_workbook(filepath, read_only=True, keep_links=False)\n",
    "    print(wb)\n",
    "    return wb.sheetnames\n",
    "\n",
    "# Let's set a non-US locale\n",
    "\n",
    "Unidades=['Eco06','Eco14','Eco18','Eco07']\n",
    "\n",
    "BuscarPages={'RM. TRACTO 14 P  70AD2V':'Eco14','RM TRACTO 18 P  882ER4':'Eco18','RM. TRACTO 07 P  103ED7':'Eco07','RM TRACTO 06 P  63AP1G':'Eco06'}\n",
    "\n",
    "Buscar_sensores={\"Odometro\":\"Kilometraje\",\"Sensor 1\":\"TANQUE 1\",\"Sensor 2\":\"TANQUE 1\", \"Total Fuell Canbus Inf\":\"Total fuel used\"}\n",
    "\n",
    "Buscar_canbus={\"Total Fuell Canbus Inf\":\"Total fuel used\",\"Temperatura del motor °C\":\"Temperatura del motor\",\"RPM\":\"RPM\"}\n",
    "\n",
    "Extract_info_sheetsLook={'Eco14':'RM. TRACTO 14 P  70AD2V - 2','Eco07':'RM. TRACTO 07 P  103ED7 - 2','Eco18':'RM TRACTO 18 P  882ER4 - 2','Eco06':'RM TRACTO 06 P  63AP1G - 2'}\n",
    "\n",
    "unidadesLitrs_df={'Eco14':{\"Total Fuell Canbus Inf\":[],\"Odometro\":[],\"Sensor 1\":[],\"Sensor 2\":[]},'Eco07':{\"Total Fuell Canbus Inf\":[],\"Odometro\":[],\"Sensor 1\":[],\"Sensor 2\":[]},'Eco18':{\"Total Fuell Canbus Inf\":[],\"Odometro\":[],\"Sensor 1\":[],\"Sensor 2\":[]},'Eco06':{\"Total Fuell Canbus Inf\":[],\"Odometro\":[],\"Sensor 1\":[],\"Sensor 2\":[]}}\n",
    "\n",
    "unidadescanbus_df={'Eco18':{\"Total Fuell Canbus Inf\":[],\"Temperatura del motor °C\":[],\"RPM\":[]},'Eco14':{\"Total Fuell Canbus Inf\":[],\"Temperatura del motor °C\":[],\"RPM\":[]},'Eco07':{\"Total Fuell Canbus Inf\":[],\"Temperatura del motor °C\":[],\"RPM\":[]},'Eco06':{\"Total Fuell Canbus Inf\":[],\"Temperatura del motor °C\":[],\"RPM\":[]}}\n",
    "\n",
    "\n",
    "df = pd.DataFrame([], columns = [\"Odometro\",\"Sensor 1\",\"Sensor 2\",\"file\"])\n",
    "df_c = pd.DataFrame([], columns = [\"Total Fuell Canbus Inf\",\"Temperatura del motor °C\",\"RPM\"])\n",
    "\n",
    "unidadesLitrs_df1={'Eco14':df,'Eco07':df,'Eco18':df,'Eco06':df}\n",
    "\n",
    "path_to_files=\"/home/rokdrigo/GitClone/Combustible2/Sensores/TEMP/2021 Septiembre/\"\n",
    "os.chdir(path_to_files)\n",
    "#path_engine='sqlite:////home/rokdrigo/GitClone/Combustible2/Sensores/sqlalchemy.db'\n",
    "\n",
    "ListFilesLoad=([file for file in os.listdir('.') if fnmatch.fnmatch(file, '*.xlsx')])\n",
    "#ListFilesUnidad=([file for file in ListFilesLoad if re.search(self.economico,file)])\n",
    "\n",
    "for file in ListFilesLoad:\n",
    "    litros_df=[]\n",
    "    print(file)      \n",
    "    wb=load_workbook(path_to_files+file, read_only=True, keep_links=False)\n",
    "    for sheet_name in wb.sheetnames:\n",
    "        if sheet_name in BuscarPages.keys():\n",
    "            sheet = wb[sheet_name]\n",
    "            unidad=BuscarPages[sheet_name]\n",
    "            #print(sheet_name)\n",
    "            cellA4=sheet.cell(row=4, column=1).value\n",
    "            print(cellA4)\n",
    "            print(sheet_name)\n",
    "            for k in  Buscar_sensores:\n",
    "                if Buscar_sensores[k] in cellA4:\n",
    "                    print( Buscar_sensores[k])\n",
    "                    pag_extract=wb[Extract_info_sheetsLook[unidad]]\n",
    "                    dates_list=[] \n",
    "                    date_string=pag_extract.cell(row=3, column=1).value\n",
    "                    if isinstance(date_string,str):\n",
    "                        locale.setlocale(locale.LC_ALL,'es_MX')\n",
    "                        match_str = re.search(r'\\d{2}-\\w{3}-\\d{4}', date_string)\n",
    "                        if match_str.group():\n",
    "                            res = datetime.datetime.strptime(match_str.group(),'%d-%b-%Y').date()\n",
    "                            print(res)\n",
    "                            sheet_info=pd.read_excel(path_to_files+file,usecols='A:B',skiprows=1,sheet_name=Extract_info_sheetsLook[unidad], engine='openpyxl')\n",
    "                            sheet_info['file'+k]=file\n",
    "                            sheet_info['mont']=pd.to_datetime(res).to_period('M')\n",
    "                            sheet_info=sheet_info.dropna()\n",
    "                            periods=len(sheet_info.index)\n",
    "                            datelist = pd.date_range(res, periods=(periods),freq='5min').tolist()\n",
    "                            sheet_info['index_2']=datelist\n",
    "                            sheet_info.set_index('index_2', inplace=True)\n",
    "                            sheet_info = sheet_info.rename(columns={sheet_info.columns[1]:k})\n",
    "                            unidadesLitrs_df[unidad][k].append(sheet_info)        \n",
    "                            \n",
    "for unidad in unidadesLitrs_df:\n",
    "    print(unidad)\n",
    "    for sensor in unidadesLitrs_df[unidad]:\n",
    "        if isinstance(unidadesLitrs_df[unidad][sensor],list) and len(unidadesLitrs_df[unidad][sensor])>0:\n",
    "            unidadesLitrs_df[unidad][sensor]=pd.concat(unidadesLitrs_df[unidad][sensor])\n",
    "        else:\n",
    "            print('Sin sensores que concatenar')\n",
    "            \n",
    "for unidad in unidadesLitrs_df:\n",
    "    if isinstance(unidadesLitrs_df[unidad]['Odometro'], pd.DataFrame) and len(unidadesLitrs_df[unidad]['Odometro'])>1:\n",
    "        df=pd.concat([unidadesLitrs_df[unidad]['Odometro'],unidadesLitrs_df[unidad]['Sensor 1'],unidadesLitrs_df[unidad]['Sensor 2'],unidadesLitrs_df[unidad][\"Total Fuell Canbus Inf\"]],axis=1)\n",
    "        df = df.loc[:,~df.columns.duplicated()]\n",
    "        unidadesLitrs_df[unidad]=df\n",
    "        \n",
    "for unidad in unidadesLitrs_df:\n",
    "    if isinstance(unidadesLitrs_df[unidad], pd.DataFrame):\n",
    "        names=unidadesLitrs_df[unidad].columns\n",
    "        if  'Sensor 1' in names and 'Sensor 2' in names:\n",
    "            output=unidadesLitrs_df[unidad][['Sensor 1','Sensor 2','Odometro','Total Fuell Canbus Inf']].copy()\n",
    "            output.index.names=['Tiempo  d/m/a hh:mm:ss']\n",
    "            # shift column 'Name' to first position\n",
    "            Time = output.index\n",
    "            # insert column using insert(position,column_name,\n",
    "            # first_column) function\n",
    "            output.insert(0, '', Time)\n",
    "            output[''] = pd.to_datetime(output['']).dt.time\n",
    "            output.index=output.index.strftime('%d/%m/%Y')  \n",
    "            outputCanbus=output[['','Total Fuell Canbus Inf']].copy()\n",
    "            month=datetime.datetime.strptime(output.index[0],'%d/%m/%Y').strftime('%B')\n",
    "            year=datetime.datetime.strptime(output.index[0],'%d/%m/%Y').strftime('%Y')\n",
    "            output[['','Sensor 1','Sensor 2','Odometro']].to_csv(path_to_files+month+year+unidad+'.csv')\n",
    "            outputCanbus.to_csv(path_to_files+month+year+unidad+'Canbus'+'.csv')\n",
    "\n",
    "            \n"
   ]
  },
  {
   "cell_type": "code",
   "execution_count": null,
   "id": "c6074e57",
   "metadata": {
    "tags": []
   },
   "outputs": [],
   "source": []
  },
  {
   "cell_type": "code",
   "execution_count": 126,
   "id": "9e393cfa",
   "metadata": {},
   "outputs": [],
   "source": []
  },
  {
   "cell_type": "code",
   "execution_count": 127,
   "id": "23b40799",
   "metadata": {},
   "outputs": [],
   "source": [
    "for unidad in unidadesLitrs_df:\n",
    "    if isinstance(unidadesLitrs_df[unidad], pd.DataFrame):\n",
    "        names=unidadesLitrs_df[unidad].columns\n",
    "        if  'Sensor 1' in names and 'Sensor 2' in names:\n",
    "            output=unidadesLitrs_df[unidad][['Sensor 1','Sensor 2','Odometro','Total Fuell Canbus Inf']].copy()\n",
    "            output.index.names=['Tiempo  d/m/a hh:mm:ss']\n",
    "            # shift column 'Name' to first position\n",
    "            Time = output.index\n",
    "            # insert column using insert(position,column_name,\n",
    "            # first_column) function\n",
    "            output.insert(0, '', Time)\n",
    "            output[''] = pd.to_datetime(output['']).dt.time\n",
    "            output.index=output.index.strftime('%d/%m/%Y')  \n",
    "            outputCanbus=output[['','Total Fuell Canbus Inf']].copy()\n",
    "            month=datetime.datetime.strptime(output.index[0],'%d/%m/%Y').strftime('%B')\n",
    "            year=datetime.datetime.strptime(output.index[0],'%d/%m/%Y').strftime('%Y')\n",
    "            output[['','Sensor 1','Sensor 2','Odometro']].to_csv(path_to_files+month+year+unidad+'.csv')\n",
    "            outputCanbus.to_csv(path_to_files+month+year+unidad+'Canbus'+'.csv')\n",
    "\n",
    "            "
   ]
  },
  {
   "cell_type": "code",
   "execution_count": 25,
   "id": "c9b33ae2",
   "metadata": {},
   "outputs": [
    {
     "data": {
      "text/plain": [
       "Index(['Tiempo', 'Total Fuell Canbus Inf', 'fileTotal Fuell Canbus Inf',\n",
       "       'mont'],\n",
       "      dtype='object')"
      ]
     },
     "execution_count": 25,
     "metadata": {},
     "output_type": "execute_result"
    }
   ],
   "source": [
    "unidadesLitrs_df['Eco14']['Total Fuell Canbus Inf'].columns"
   ]
  },
  {
   "cell_type": "code",
   "execution_count": null,
   "id": "e02e7e21",
   "metadata": {},
   "outputs": [],
   "source": []
  }
 ],
 "metadata": {
  "kernelspec": {
   "display_name": "Python 3",
   "language": "python",
   "name": "python3"
  },
  "language_info": {
   "codemirror_mode": {
    "name": "ipython",
    "version": 3
   },
   "file_extension": ".py",
   "mimetype": "text/x-python",
   "name": "python",
   "nbconvert_exporter": "python",
   "pygments_lexer": "ipython3",
   "version": "3.8.8"
  }
 },
 "nbformat": 4,
 "nbformat_minor": 5
}
